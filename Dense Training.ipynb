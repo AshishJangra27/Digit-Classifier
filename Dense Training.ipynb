{
 "cells": [
  {
   "cell_type": "code",
   "execution_count": 13,
   "metadata": {},
   "outputs": [
    {
     "name": "stdout",
     "output_type": "stream",
     "text": [
      "Epoch 1/10\n",
      "60000/60000 [==============================] - 67s 1ms/step - loss: 0.2424 - acc: 0.9267\n",
      "Epoch 2/10\n",
      "60000/60000 [==============================] - 63s 1ms/step - loss: 0.1219 - acc: 0.9643\n",
      "Epoch 3/10\n",
      "60000/60000 [==============================] - 59s 981us/step - loss: 0.0945 - acc: 0.9725\n",
      "Epoch 4/10\n",
      "60000/60000 [==============================] - 52s 868us/step - loss: 0.0807 - acc: 0.9755\n",
      "Epoch 5/10\n",
      "60000/60000 [==============================] - 34s 561us/step - loss: 0.0698 - acc: 0.9784\n",
      "Epoch 6/10\n",
      "60000/60000 [==============================] - 39s 653us/step - loss: 0.0610 - acc: 0.9818\n",
      "Epoch 7/10\n",
      "60000/60000 [==============================] - 35s 587us/step - loss: 0.0556 - acc: 0.9833\n",
      "Epoch 8/10\n",
      "60000/60000 [==============================] - 32s 535us/step - loss: 0.0515 - acc: 0.9849\n",
      "Epoch 9/10\n",
      "60000/60000 [==============================] - 39s 658us/step - loss: 0.0492 - acc: 0.9853\n",
      "Epoch 10/10\n",
      "60000/60000 [==============================] - 40s 661us/step - loss: 0.0432 - acc: 0.9875\n"
     ]
    },
    {
     "data": {
      "text/plain": [
       "<keras.callbacks.History at 0xb3c66c2e8>"
      ]
     },
     "execution_count": 13,
     "metadata": {},
     "output_type": "execute_result"
    }
   ],
   "source": [
    "import cv2 as cv\n",
    "import numpy as np\n",
    "import tensorflow as tf\n",
    "import matplotlib.pyplot as plt\n",
    "from keras.models import Sequential, load_model\n",
    "from keras.layers import Dense, Conv2D, Dropout, Flatten, MaxPooling2D\n",
    "\n",
    "(x_train, y_train), (x_test, y_test) = tf.keras.datasets.mnist.load_data()\n",
    "\n",
    "x_train =  x_train / 255.0\n",
    "x_test  =  x_test / 255.0\n",
    "\n",
    "\n",
    "#print('******************************************')\n",
    "\n",
    "model = Sequential()\n",
    "\n",
    "model.add(Flatten())\n",
    "\n",
    "model.add(Dense(588, activation=tf.nn.relu))\n",
    "model.add(Dropout(0.2))\n",
    "\n",
    "model.add(Dense(392, activation=tf.nn.relu))\n",
    "model.add(Dropout(0.2))\n",
    "\n",
    "model.add(Dense(196, activation=tf.nn.relu))\n",
    "model.add(Dropout(0.2))\n",
    "\n",
    "model.add(Dense(10,  activation=tf.nn.softmax))\n",
    "\n",
    "\n",
    "model.compile(optimizer = 'adam',loss = 'sparse_categorical_crossentropy', metrics = ['accuracy'])\n",
    "\n",
    "model.fit(x_train, y_train, epochs = 10)"
   ]
  },
  {
   "cell_type": "code",
   "execution_count": 14,
   "metadata": {},
   "outputs": [
    {
     "name": "stdout",
     "output_type": "stream",
     "text": [
      "10000/10000 [==============================] - 4s 352us/step\n"
     ]
    },
    {
     "data": {
      "text/plain": [
       "[0.0805409926929242, 0.9812]"
      ]
     },
     "execution_count": 14,
     "metadata": {},
     "output_type": "execute_result"
    }
   ],
   "source": [
    "model.evaluate(x_test,y_test)"
   ]
  },
  {
   "cell_type": "code",
   "execution_count": 16,
   "metadata": {},
   "outputs": [
    {
     "name": "stdout",
     "output_type": "stream",
     "text": [
      "              9\n"
     ]
    },
    {
     "data": {
      "image/png": "[encoded data removed]",
      "text/plain": [
       "<Figure size 432x288 with 1 Axes>"
      ]
     },
     "metadata": {},
     "output_type": "display_data"
    }
   ],
   "source": [
    "frame =  cv.imread(\"Test/nine.png\")\n",
    "im    =  cv.imread(\"Test/nine.png\",0)\n",
    "im = cv.resize(im,(28,28))\n",
    "\n",
    "a = np.asarray(im)\n",
    "a = a/255.0\n",
    "a = np.reshape(a,(1,28,28))\n",
    "\n",
    "#print('******************************************')\n",
    "\n",
    "x = model.predict(a)\n",
    "print('             ',np.argmax(x[0]))\n",
    "\n",
    "plt.imshow(frame)\n",
    "plt.title('Frames')\n",
    "plt.show()"
   ]
  },
  {
   "cell_type": "code",
   "execution_count": null,
   "metadata": {},
   "outputs": [],
   "source": []
  }
 ],
 "metadata": {
  "kernelspec": {
   "display_name": "Python 3",
   "language": "python",
   "name": "python3"
  },
  "language_info": {
   "codemirror_mode": {
    "name": "ipython",
    "version": 3
   },
   "file_extension": ".py",
   "mimetype": "text/x-python",
   "name": "python",
   "nbconvert_exporter": "python",
   "pygments_lexer": "ipython3",
   "version": "3.6.5"
  }
 },
 "nbformat": 4,
 "nbformat_minor": 2
}
